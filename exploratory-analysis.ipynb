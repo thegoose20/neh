{
 "cells": [
  {
   "cell_type": "markdown",
   "id": "7104fd0b-9534-4147-a7c8-55b552b5c3ef",
   "metadata": {},
   "source": [
    "# Exploratory Analysis of NEH Grant Data: 1960s\n",
    "\n",
    "***\n",
    "\n",
    "* **Author:** [Lucy Havens](https://lucyhavens.com)\n",
    "* **Due Date:** September 16, 2023\n",
    "* **Data source:** [Data.gov](https://catalog.data.gov/organization/neh-gov)\n",
    "* **Aim:** Convey something of note about humanities or NEH grantmaking, demonstrating technical savvy, communication skills, and humanities literacy\n",
    "\n",
    "***\n",
    "\n",
    "**Contents**\n",
    "\n",
    "[I.](#i) Data Loading\n",
    "\n",
    "[II.](#ii) Quantities\n",
    "\n",
    "[III.](#iii) Text Analysis\n",
    "\n",
    "***"
   ]
  },
  {
   "cell_type": "markdown",
   "id": "a06159c4-adb6-4e14-9e35-317aecca7ea1",
   "metadata": {},
   "source": [
    "Import programming libraries:"
   ]
  },
  {
   "cell_type": "code",
   "execution_count": 1,
   "id": "5c98d7c6-ccc3-47f0-957e-e9c335e1926d",
   "metadata": {},
   "outputs": [
    {
     "name": "stderr",
     "output_type": "stream",
     "text": [
      "[nltk_data] Downloading package stopwords to /Users/lucy/nltk_data...\n",
      "[nltk_data]   Package stopwords is already up-to-date!\n"
     ]
    }
   ],
   "source": [
    "# For custom functions:\n",
    "import utils\n",
    "\n",
    "# For XML data:\n",
    "import xml.etree.ElementTree as ET\n",
    "\n",
    "# For text data:\n",
    "import nltk\n",
    "from nltk.tokenize import word_tokenize\n",
    "from nltk.probability import FreqDist\n",
    "nltk.download(\"stopwords\")\n",
    "from nltk.corpus import stopwords\n",
    "from nltk.stem.porter import PorterStemmer\n",
    "\n",
    "# For tabular data\n",
    "import pandas as pd\n",
    "\n",
    "# For creating directories\n",
    "from pathlib import Path\n",
    "\n",
    "# For visualizing data\n",
    "import matplotlib.pyplot as plt"
   ]
  },
  {
   "cell_type": "markdown",
   "id": "62565ebf-73dc-4960-9f2e-7c4711cce713",
   "metadata": {},
   "source": [
    "<a id=\"i\"></a>\n",
    "## I. Data Loading"
   ]
  },
  {
   "cell_type": "markdown",
   "id": "c152ae0d-5b16-4e49-b34e-45cb7c4521f6",
   "metadata": {},
   "source": [
    "Import the XML data files of NEH grants from the 1960s through the 2020s:"
   ]
  },
  {
   "cell_type": "code",
   "execution_count": 2,
   "id": "cdad2e14-c862-468d-9c6e-dea0360dbf53",
   "metadata": {},
   "outputs": [],
   "source": [
    "datadir = \"neh-data/\""
   ]
  },
  {
   "cell_type": "code",
   "execution_count": 3,
   "id": "278d3eb8-2d33-4df3-a63a-440b87a06305",
   "metadata": {},
   "outputs": [],
   "source": [
    "y = 1960\n",
    "filepath = datadir+\"NEH_Grants{year}s/NEH_Grants{year}s.xml\".format(year=y)\n"
   ]
  },
  {
   "cell_type": "code",
   "execution_count": 4,
   "id": "4fd70270-021c-44b8-80aa-b5029e664245",
   "metadata": {},
   "outputs": [],
   "source": [
    "tree = ET.parse(filepath)\n",
    "root = tree.getroot()"
   ]
  },
  {
   "cell_type": "markdown",
   "id": "398387f3-bf22-4569-be97-038c675bfece",
   "metadata": {},
   "source": [
    "Extract the text for the following data fields:\n",
    "* Project title (`<ProjectTitle>...</ProjectTitle>`)\n",
    "* Year project awarded grant (`<YearAwarded>...</YearAwarded>`)\n",
    "* Project description (`<ProjectDesc>...</ProjectDesc>`)\n",
    "* Organization type (`<OrganizationType>...</OrganizationType>`)\n",
    "* Primary discipline (`<PrimaryDiscipline>...</PrimaryDiscipline>`)"
   ]
  },
  {
   "cell_type": "code",
   "execution_count": 5,
   "id": "a14ca656-0424-4955-b3b1-2cd1ef273dec",
   "metadata": {},
   "outputs": [
    {
     "name": "stdout",
     "output_type": "stream",
     "text": [
      "Total titles: 1010\n",
      "Sample titles: ['The Papers of George Washington', 'Program to improve instruction dealing with the American Negro', 'American Studies Bibliographical Project']\n"
     ]
    }
   ],
   "source": [
    "titles = utils.getTextBeneathTag(root, \"ProjectTitle\")\n",
    "print(\"Total titles:\", len(titles))\n",
    "print(\"Sample titles:\", list(set(titles))[0:3])"
   ]
  },
  {
   "cell_type": "code",
   "execution_count": 6,
   "id": "1f7d59df-b7f1-4f44-84fc-b54ce66d4971",
   "metadata": {},
   "outputs": [
    {
     "name": "stdout",
     "output_type": "stream",
     "text": [
      "Total years: 1010\n",
      "Range of years: 1966 to 1969\n"
     ]
    }
   ],
   "source": [
    "years = utils.getTextBeneathTag(root, \"YearAwarded\")\n",
    "# Represent years as numbers, rather than strings\n",
    "grant_years = [int(grant_year) for grant_year in years]\n",
    "print(\"Total years:\", len(grant_years))\n",
    "print(\"Range of years:\", min(grant_years), \"to\", max(grant_years))"
   ]
  },
  {
   "cell_type": "code",
   "execution_count": 7,
   "id": "71e09630-dc02-49c8-9fd8-6af651f6f89f",
   "metadata": {},
   "outputs": [
    {
     "name": "stdout",
     "output_type": "stream",
     "text": [
      "Total descriptions: 1010\n",
      "Sample description: Study of reform activities of the Consumers' Leagues, comparing European leagues with those in U.S. \n"
     ]
    }
   ],
   "source": [
    "descriptions = utils.getTextBeneathTag(root, \"ProjectDesc\")\n",
    "print(\"Total descriptions:\", len(descriptions))\n",
    "print(\"Sample description:\", list(set(descriptions))[0])"
   ]
  },
  {
   "cell_type": "code",
   "execution_count": 8,
   "id": "99ba18bb-f620-46a3-a02a-95c6b75ed1e4",
   "metadata": {},
   "outputs": [
    {
     "name": "stdout",
     "output_type": "stream",
     "text": [
      "Total organizations: 1010\n",
      "Unique organizations: 26\n",
      "Sample organizations: ['Library', 'Professional Association', 'Philanthropic Foundation']\n"
     ]
    }
   ],
   "source": [
    "organizations = utils.getTextBeneathTag(root, \"OrganizationType\")\n",
    "print(\"Total organizations:\", len(organizations))\n",
    "print(\"Unique organizations:\", len(set(organizations)))\n",
    "print(\"Sample organizations:\", list(set(organizations))[0:3])"
   ]
  },
  {
   "cell_type": "code",
   "execution_count": 9,
   "id": "cb81b96c-e151-4449-9a66-1192b8b4bce7",
   "metadata": {},
   "outputs": [
    {
     "name": "stdout",
     "output_type": "stream",
     "text": [
      "Total primary disciplines: 1010\n",
      "Unique primary disciplines: 57\n",
      "Sample primary disciplines: ['Italian Literature', 'Archaeology', 'Classical Languages']\n"
     ]
    }
   ],
   "source": [
    "disciplines = utils.getTextBeneathTag(root, \"PrimaryDiscipline\")\n",
    "print(\"Total primary disciplines:\", len(disciplines))\n",
    "print(\"Unique primary disciplines:\", len(set(disciplines)))\n",
    "print(\"Sample primary disciplines:\", list(set(disciplines))[0:3])"
   ]
  },
  {
   "cell_type": "markdown",
   "id": "bb30697b-5653-4797-8357-7c901c07daaa",
   "metadata": {},
   "source": [
    "Ensure no data was missed:"
   ]
  },
  {
   "cell_type": "code",
   "execution_count": 10,
   "id": "e845bf0a-1897-47c5-a8c2-8126836982b5",
   "metadata": {},
   "outputs": [],
   "source": [
    "assert len(titles) == len(descriptions), \"There should be the same number of retrieved titles and descriptions.\"\n",
    "assert len(titles) == len(organizations), \"There should be the same number of retrieved titles and organizations.\"\n",
    "assert len(disciplines) == len(organizations), \"There should be the same number of retrieved disciplines and organizations.\""
   ]
  },
  {
   "cell_type": "markdown",
   "id": "2f35bbc7-4967-4f7d-a939-f14181243fe4",
   "metadata": {},
   "source": [
    "<a id=\"ii\"></a>\n",
    "## II. Quantities"
   ]
  },
  {
   "cell_type": "markdown",
   "id": "0b40e58a-2524-4430-9dec-6b0e7b5ce1b1",
   "metadata": {},
   "source": [
    "Create a table (specifically a *DataFrame*, a type of data structure in [pandas](pandas.pydata.org)) with the year, title, organization, and discipline data:"
   ]
  },
  {
   "cell_type": "code",
   "execution_count": 11,
   "id": "d5e29ac5-b5aa-49f9-9dfa-fc9c8270dcec",
   "metadata": {},
   "outputs": [
    {
     "data": {
      "text/html": [
       "<div>\n",
       "<style scoped>\n",
       "    .dataframe tbody tr th:only-of-type {\n",
       "        vertical-align: middle;\n",
       "    }\n",
       "\n",
       "    .dataframe tbody tr th {\n",
       "        vertical-align: top;\n",
       "    }\n",
       "\n",
       "    .dataframe thead th {\n",
       "        text-align: right;\n",
       "    }\n",
       "</style>\n",
       "<table border=\"1\" class=\"dataframe\">\n",
       "  <thead>\n",
       "    <tr style=\"text-align: right;\">\n",
       "      <th></th>\n",
       "      <th>YearAwarded</th>\n",
       "      <th>ProjectTitle</th>\n",
       "      <th>OrganizationType</th>\n",
       "      <th>PrimaryDiscipline</th>\n",
       "    </tr>\n",
       "  </thead>\n",
       "  <tbody>\n",
       "    <tr>\n",
       "      <th>431</th>\n",
       "      <td>1966</td>\n",
       "      <td>A Project for Creation of Source Materials in ...</td>\n",
       "      <td>Center For Advanced Study/Research Institute</td>\n",
       "      <td>U.S. History</td>\n",
       "    </tr>\n",
       "    <tr>\n",
       "      <th>585</th>\n",
       "      <td>1966</td>\n",
       "      <td>Conference to Analyze Present Situation of Lat...</td>\n",
       "      <td>Four-Year College</td>\n",
       "      <td>Classical Languages</td>\n",
       "    </tr>\n",
       "    <tr>\n",
       "      <th>873</th>\n",
       "      <td>1966</td>\n",
       "      <td>Ming Biographical History Project</td>\n",
       "      <td>Center For Advanced Study/Research Institute</td>\n",
       "      <td>East Asian History</td>\n",
       "    </tr>\n",
       "    <tr>\n",
       "      <th>47</th>\n",
       "      <td>1966</td>\n",
       "      <td>Summer institute in papyrology to be conducted...</td>\n",
       "      <td>Professional Association</td>\n",
       "      <td>Ancient Literature</td>\n",
       "    </tr>\n",
       "    <tr>\n",
       "      <th>414</th>\n",
       "      <td>1966</td>\n",
       "      <td>Support of Standard Editions of American Authors</td>\n",
       "      <td>Center For Advanced Study/Research Institute</td>\n",
       "      <td>Literature, General</td>\n",
       "    </tr>\n",
       "  </tbody>\n",
       "</table>\n",
       "</div>"
      ],
      "text/plain": [
       "     YearAwarded                                       ProjectTitle  \\\n",
       "431         1966  A Project for Creation of Source Materials in ...   \n",
       "585         1966  Conference to Analyze Present Situation of Lat...   \n",
       "873         1966                  Ming Biographical History Project   \n",
       "47          1966  Summer institute in papyrology to be conducted...   \n",
       "414         1966   Support of Standard Editions of American Authors   \n",
       "\n",
       "                                 OrganizationType    PrimaryDiscipline  \n",
       "431  Center For Advanced Study/Research Institute         U.S. History  \n",
       "585                             Four-Year College  Classical Languages  \n",
       "873  Center For Advanced Study/Research Institute   East Asian History  \n",
       "47                       Professional Association   Ancient Literature  \n",
       "414  Center For Advanced Study/Research Institute  Literature, General  "
      ]
     },
     "execution_count": 11,
     "metadata": {},
     "output_type": "execute_result"
    }
   ],
   "source": [
    "df = pd.DataFrame({\"YearAwarded\":grant_years, \"ProjectTitle\":titles, \n",
    "                   \"OrganizationType\":organizations, \"PrimaryDiscipline\":disciplines})\n",
    "# Sort ascending by year, then title, then organization type, then discipline\n",
    "df = df.sort_values(by=[\"YearAwarded\",\"ProjectTitle\",\"OrganizationType\",\"PrimaryDiscipline\"])\n",
    "# Ensure no data was missed\n",
    "assert df.shape[0] == len(disciplines), \"There should be the same number of DataFrame rows as retrieved list items\"\n",
    "# View the initial rows of the DataFrame\n",
    "df.head()"
   ]
  },
  {
   "cell_type": "markdown",
   "id": "efb44a16-6d87-4ecb-b7f7-1340b249ae46",
   "metadata": {},
   "source": [
    "Calculate the sum of grants awarded to each organization type and save the data:"
   ]
  },
  {
   "cell_type": "code",
   "execution_count": 12,
   "id": "8afa749e-2c93-47a9-9ab9-bfc72afaa174",
   "metadata": {},
   "outputs": [
    {
     "data": {
      "text/html": [
       "<div>\n",
       "<style scoped>\n",
       "    .dataframe tbody tr th:only-of-type {\n",
       "        vertical-align: middle;\n",
       "    }\n",
       "\n",
       "    .dataframe tbody tr th {\n",
       "        vertical-align: top;\n",
       "    }\n",
       "\n",
       "    .dataframe thead th {\n",
       "        text-align: right;\n",
       "    }\n",
       "</style>\n",
       "<table border=\"1\" class=\"dataframe\">\n",
       "  <thead>\n",
       "    <tr style=\"text-align: right;\">\n",
       "      <th></th>\n",
       "      <th>OrganizationType</th>\n",
       "      <th>Count</th>\n",
       "    </tr>\n",
       "  </thead>\n",
       "  <tbody>\n",
       "    <tr>\n",
       "      <th>0</th>\n",
       "      <td>Four-Year College</td>\n",
       "      <td>361</td>\n",
       "    </tr>\n",
       "    <tr>\n",
       "      <th>1</th>\n",
       "      <td>University</td>\n",
       "      <td>298</td>\n",
       "    </tr>\n",
       "    <tr>\n",
       "      <th>2</th>\n",
       "      <td>Center For Advanced Study/Research Institute</td>\n",
       "      <td>98</td>\n",
       "    </tr>\n",
       "    <tr>\n",
       "      <th>3</th>\n",
       "      <td>Publishing</td>\n",
       "      <td>71</td>\n",
       "    </tr>\n",
       "    <tr>\n",
       "      <th>4</th>\n",
       "      <td>Unknown</td>\n",
       "      <td>66</td>\n",
       "    </tr>\n",
       "  </tbody>\n",
       "</table>\n",
       "</div>"
      ],
      "text/plain": [
       "                               OrganizationType  Count\n",
       "0                             Four-Year College    361\n",
       "1                                    University    298\n",
       "2  Center For Advanced Study/Research Institute     98\n",
       "3                                    Publishing     71\n",
       "4                                       Unknown     66"
      ]
     },
     "execution_count": 12,
     "metadata": {},
     "output_type": "execute_result"
    }
   ],
   "source": [
    "df_orgs = pd.DataFrame(df.OrganizationType.value_counts()).reset_index()\n",
    "df_orgs = df_orgs.rename(columns={\"index\":\"OrganizationType\", \"OrganizationType\":\"Count\"})\n",
    "df_orgs.head()"
   ]
  },
  {
   "cell_type": "code",
   "execution_count": 13,
   "id": "b88f2c66-7065-471f-a3c6-5845d6ffcfbd",
   "metadata": {},
   "outputs": [],
   "source": [
    "# Make a folder (a.k.a. directory) to save the organization type counts data into\n",
    "analysis_dir = \"analysis-data/\"\n",
    "Path(analysis_dir).mkdir(parents=True, exist_ok=True)\n",
    "df_orgs.to_csv(analysis_dir+\"organizationtype-counts-{year}s.csv\".format(year=y))"
   ]
  },
  {
   "cell_type": "markdown",
   "id": "5aba6864-ee94-4f9f-8295-d74e61c97895",
   "metadata": {},
   "source": [
    "Calculate the sum of primary disciplines and save the data:"
   ]
  },
  {
   "cell_type": "code",
   "execution_count": 14,
   "id": "8ba38312-66a4-4799-8da9-ec8266988818",
   "metadata": {},
   "outputs": [
    {
     "data": {
      "text/html": [
       "<div>\n",
       "<style scoped>\n",
       "    .dataframe tbody tr th:only-of-type {\n",
       "        vertical-align: middle;\n",
       "    }\n",
       "\n",
       "    .dataframe tbody tr th {\n",
       "        vertical-align: top;\n",
       "    }\n",
       "\n",
       "    .dataframe thead th {\n",
       "        text-align: right;\n",
       "    }\n",
       "</style>\n",
       "<table border=\"1\" class=\"dataframe\">\n",
       "  <thead>\n",
       "    <tr style=\"text-align: right;\">\n",
       "      <th></th>\n",
       "      <th>PrimaryDiscipline</th>\n",
       "      <th>Count</th>\n",
       "    </tr>\n",
       "  </thead>\n",
       "  <tbody>\n",
       "    <tr>\n",
       "      <th>0</th>\n",
       "      <td>History, General</td>\n",
       "      <td>237</td>\n",
       "    </tr>\n",
       "    <tr>\n",
       "      <th>1</th>\n",
       "      <td>Interdisciplinary Studies, General</td>\n",
       "      <td>186</td>\n",
       "    </tr>\n",
       "    <tr>\n",
       "      <th>2</th>\n",
       "      <td>Philosophy, General</td>\n",
       "      <td>71</td>\n",
       "    </tr>\n",
       "    <tr>\n",
       "      <th>3</th>\n",
       "      <td>U.S. History</td>\n",
       "      <td>66</td>\n",
       "    </tr>\n",
       "    <tr>\n",
       "      <th>4</th>\n",
       "      <td>Archaeology</td>\n",
       "      <td>41</td>\n",
       "    </tr>\n",
       "  </tbody>\n",
       "</table>\n",
       "</div>"
      ],
      "text/plain": [
       "                    PrimaryDiscipline  Count\n",
       "0                    History, General    237\n",
       "1  Interdisciplinary Studies, General    186\n",
       "2                 Philosophy, General     71\n",
       "3                        U.S. History     66\n",
       "4                         Archaeology     41"
      ]
     },
     "execution_count": 14,
     "metadata": {},
     "output_type": "execute_result"
    }
   ],
   "source": [
    "df_discs = pd.DataFrame(df.PrimaryDiscipline.value_counts()).reset_index()\n",
    "df_discs = df_discs.rename(columns={\"index\":\"PrimaryDiscipline\", \"PrimaryDiscipline\":\"Count\"})\n",
    "df_discs.head()"
   ]
  },
  {
   "cell_type": "code",
   "execution_count": 15,
   "id": "dda4c728-e8c9-426e-8f32-400691a7aad4",
   "metadata": {},
   "outputs": [],
   "source": [
    "df_discs.to_csv(analysis_dir+\"primarydiscipline-counts-{year}s.csv\".format(year=y))"
   ]
  },
  {
   "cell_type": "markdown",
   "id": "0f19e542-8bdf-4ee3-a9ac-ff32d3ea17c4",
   "metadata": {},
   "source": [
    "<a id=\"iii\"></a>\n",
    "## III. Text Analysis"
   ]
  },
  {
   "cell_type": "markdown",
   "id": "8982e4ab-90bb-41e4-8f64-5107f7efd53a",
   "metadata": {},
   "source": [
    "Analyze the project descriptions using text mining techniques:"
   ]
  },
  {
   "cell_type": "code",
   "execution_count": 16,
   "id": "3c046248-0727-4899-bd04-dc517c883080",
   "metadata": {},
   "outputs": [
    {
     "name": "stdout",
     "output_type": "stream",
     "text": [
      "1010 78\n",
      "['No description', 'No description', 'No description', 'No description', 'No description']\n"
     ]
    }
   ],
   "source": [
    "print(len(descriptions), len(set(descriptions)))\n",
    "print(descriptions[0:5])"
   ]
  },
  {
   "cell_type": "code",
   "execution_count": 17,
   "id": "0b56efaa-f6c0-475b-9822-06aa2f71ee01",
   "metadata": {},
   "outputs": [
    {
     "name": "stdout",
     "output_type": "stream",
     "text": [
      "Projects with no description: 926\n"
     ]
    }
   ],
   "source": [
    "clean_descs = [d for d in descriptions if d != \"No description\"]\n",
    "print(\"Projects with no description:\", len(descriptions)-len(clean_descs))"
   ]
  },
  {
   "cell_type": "code",
   "execution_count": 18,
   "id": "714c84eb-798a-4c60-b166-16d0ca4302ce",
   "metadata": {},
   "outputs": [
    {
     "name": "stdout",
     "output_type": "stream",
     "text": [
      "Unique descriptions: 77\n"
     ]
    }
   ],
   "source": [
    "print(\"Unique descriptions:\", len(set(clean_descs)))"
   ]
  },
  {
   "cell_type": "markdown",
   "id": "731a0d6c-b3e3-4379-b3a3-cce9b73a9778",
   "metadata": {},
   "source": [
    "Create a list of *tokens*, essentially words and punctuation marks, from the list of unique project descriptions, excluding those that state `No description`:"
   ]
  },
  {
   "cell_type": "code",
   "execution_count": 19,
   "id": "144b3738-9b9e-49a7-98ee-4c72b5297523",
   "metadata": {},
   "outputs": [
    {
     "name": "stdout",
     "output_type": "stream",
     "text": [
      "8714\n"
     ]
    }
   ],
   "source": [
    "clean_descs = list(set(clean_descs))\n",
    "tokens = []\n",
    "for d in clean_descs:\n",
    "    new_tokens = word_tokenize(d)\n",
    "    tokens = tokens + new_tokens\n",
    "print(len(tokens))"
   ]
  },
  {
   "cell_type": "markdown",
   "id": "8d185342-a678-43fe-930f-d24e686a7da5",
   "metadata": {},
   "source": [
    "Create a list of all the words in the descriptions:"
   ]
  },
  {
   "cell_type": "code",
   "execution_count": 20,
   "id": "18599158-b615-4462-9351-22664b6ac6ac",
   "metadata": {},
   "outputs": [
    {
     "name": "stdout",
     "output_type": "stream",
     "text": [
      "Total alphabetic tokens (words): 7300\n"
     ]
    }
   ],
   "source": [
    "# Exclude punctuation marks\n",
    "words = [t for t in tokens if t.isalpha()]\n",
    "print(\"Total alphabetic tokens (words):\", len(words))"
   ]
  },
  {
   "cell_type": "markdown",
   "id": "dc0243c7-d66d-481c-9e1c-ecbf2f4b8764",
   "metadata": {},
   "source": [
    "Exclude *stop words* (frequently-occurring words that don't communicate much meaning on their own, such as \"the,\" \"or,\" and \"of\") from the list of words:"
   ]
  },
  {
   "cell_type": "code",
   "execution_count": 21,
   "id": "a90db04b-b9e8-498d-b8ca-70a3880797b4",
   "metadata": {},
   "outputs": [],
   "source": [
    "# Load stop words for the English language:\n",
    "eng_stopwords = list(stopwords.words('english'))\n",
    "# Add custom stop words based on text corpus (project descriptions)\n",
    "eng_stopwords  = eng_stopwords + [\n",
    "    \"american\", \"program\", \"programs\", \"project\", \"projects\", \"funds\", \"important\", \"one\", \"year\"\n",
    "]\n",
    "# Exclude any words that appear in the list of English stop words (case insensitive, e.g. \"The\" and \"the\" will be excluded)\n",
    "# Also exclude \"ABSTRACT,\" as manual investigation revealed frequent occurrence of this in the descriptions\n",
    "no_stopwords = [w for w in words if not w.lower() in eng_stopwords and w != \"ABSTRACT\"]"
   ]
  },
  {
   "cell_type": "code",
   "execution_count": 22,
   "id": "95a13071-1bc1-4114-bdef-c69c69688060",
   "metadata": {},
   "outputs": [
    {
     "name": "stdout",
     "output_type": "stream",
     "text": [
      "Remaining words: 4230\n"
     ]
    }
   ],
   "source": [
    "print(\"Remaining words:\", len(no_stopwords))"
   ]
  },
  {
   "cell_type": "markdown",
   "id": "f4946f30-67e8-4771-9896-8ed5198bf4f4",
   "metadata": {},
   "source": [
    "Visualize the frequency of the most common words in the descriptions:"
   ]
  },
  {
   "cell_type": "code",
   "execution_count": 23,
   "id": "3e1efff0-3f53-4463-802a-467cf04bdb97",
   "metadata": {},
   "outputs": [
    {
     "data": {
      "image/png": "[encoded data removed]",
      "text/plain": [
       "<Figure size 900x300 with 1 Axes>"
      ]
     },
     "metadata": {},
     "output_type": "display_data"
    }
   ],
   "source": [
    "fdist_no_stopwords = FreqDist(no_stopwords)\n",
    "# Customise the width and height of the plot\n",
    "plt.figure(figsize = (9, 3))                \n",
    "# Customise the font size of the title, axes names, and axes labels\n",
    "plt.rc('font', size=8)\n",
    "n_words = 30\n",
    "plot_title = \"Frequency Distribution of {n} Most Common Words in NEH Grants' Project Descriptions from {year}s\".format(n=n_words, year=y)\n",
    "fdist_no_stopwords.plot(n_words, title=plot_title)\n",
    "plt.show()"
   ]
  },
  {
   "cell_type": "markdown",
   "id": "7328994e-04f7-4450-bfa8-6139e96000b1",
   "metadata": {},
   "source": [
    "Visualize the most common stems (words' roots) in the descriptions:"
   ]
  },
  {
   "cell_type": "code",
   "execution_count": 25,
   "id": "1ec5891a-030e-493c-bc38-431b6a80d583",
   "metadata": {},
   "outputs": [
    {
     "name": "stdout",
     "output_type": "stream",
     "text": [
      "['studi', 'reform', 'activ', 'consum', 'leagu', 'compar', 'european', 'leagu', 'develop', 'new']\n"
     ]
    }
   ],
   "source": [
    "stemmer = nltk.PorterStemmer()\n",
    "stems = [stemmer.stem(w) for w in no_stopwords]\n",
    "print(stems[:10])"
   ]
  },
  {
   "cell_type": "code",
   "execution_count": 26,
   "id": "a968662b-dde7-4e84-a15b-e8837293772c",
   "metadata": {},
   "outputs": [
    {
     "data": {
      "image/png": "[encoded data removed]",
      "text/plain": [
       "<Figure size 900x300 with 1 Axes>"
      ]
     },
     "metadata": {},
     "output_type": "display_data"
    }
   ],
   "source": [
    "fdist_stems = FreqDist(stems)\n",
    "# Customise the width and height of the plot\n",
    "plt.figure(figsize = (9, 3))                \n",
    "# Customise the font size of the title, axes names, and axes labels\n",
    "plt.rc('font', size=10)\n",
    "n_words = 30\n",
    "plot_title = \"Frequency Distribution of {n} Most Common Word Stems in NEH Grants' Project Descriptions from {year}s\".format(n=n_words, year=y)\n",
    "fdist_stems.plot(n_words, title=plot_title)\n",
    "plt.show()"
   ]
  }
 ],
 "metadata": {
  "kernelspec": {
   "display_name": "Python 3 (ipykernel)",
   "language": "python",
   "name": "python3"
  },
  "language_info": {
   "codemirror_mode": {
    "name": "ipython",
    "version": 3
   },
   "file_extension": ".py",
   "mimetype": "text/x-python",
   "name": "python",
   "nbconvert_exporter": "python",
   "pygments_lexer": "ipython3",
   "version": "3.9.7"
  }
 },
 "nbformat": 4,
 "nbformat_minor": 5
}
