{
 "cells": [
  {
   "cell_type": "markdown",
   "id": "a27d3ff2-ed17-4875-b232-b436ec74f110",
   "metadata": {},
   "source": [
    "# Final Analysis of NEH Grant Data: 1966-2023\n",
    "\n",
    "***\n",
    "\n",
    "* **Author:** [Lucy Havens](https://lucyhavens.com)\n",
    "* **Due Date:** September 16, 2023\n",
    "* **Data source:** [Data.gov](https://catalog.data.gov/organization/neh-gov)\n",
    "* **Aim:** Convey something of note about humanities or NEH grantmaking, demonstrating technical savvy, communication skills, and humanities literacy\n",
    "\n",
    "***\n",
    "\n",
    "**Contents**\n",
    "\n",
    "[I.](#data) Data Loading\n",
    "\n",
    "[II.](#quant) Quantities\n",
    "\n",
    "[III.](#text) Text Analysis\n",
    "\n",
    "***"
   ]
  },
  {
   "cell_type": "markdown",
   "id": "3b368345-4905-4848-bd7b-7a127735572b",
   "metadata": {},
   "source": [
    "Import programming libraries:"
   ]
  },
  {
   "cell_type": "code",
   "execution_count": 27,
   "id": "faee3377-26ee-4dfd-af75-5dac262f275b",
   "metadata": {},
   "outputs": [
    {
     "name": "stderr",
     "output_type": "stream",
     "text": [
      "[nltk_data] Downloading package stopwords to /Users/lucy/nltk_data...\n",
      "[nltk_data]   Package stopwords is already up-to-date!\n"
     ]
    }
   ],
   "source": [
    "# For custom functions:\n",
    "import utils\n",
    "\n",
    "# For XML data:\n",
    "import xml.etree.ElementTree as ET\n",
    "\n",
    "# For text data:\n",
    "import nltk\n",
    "from nltk.tokenize import word_tokenize\n",
    "from nltk.probability import FreqDist\n",
    "nltk.download(\"stopwords\")\n",
    "from nltk.corpus import stopwords\n",
    "from nltk.stem.porter import PorterStemmer\n",
    "\n",
    "# For tabular data\n",
    "import pandas as pd\n",
    "\n",
    "# For creating directories\n",
    "from pathlib import Path\n",
    "\n",
    "# For visualizing data\n",
    "import matplotlib.pyplot as plt\n",
    "\n",
    "# For exporting data\n",
    "import json"
   ]
  },
  {
   "cell_type": "markdown",
   "id": "de46eaf2-e7f5-4dc0-a044-bbfe475b215e",
   "metadata": {},
   "source": [
    "<a id=\"data\"></a>\n",
    "## I. Data Loading"
   ]
  },
  {
   "cell_type": "markdown",
   "id": "cddebaf2-c7ac-4a89-919d-6e3f7fec28ab",
   "metadata": {},
   "source": [
    "Import the XML data files of NEH grants from the 1960s through the 2020s:"
   ]
  },
  {
   "cell_type": "code",
   "execution_count": 2,
   "id": "42ff9ece-8f0e-491b-9dd2-9fd108facbe9",
   "metadata": {},
   "outputs": [],
   "source": [
    "datadir = \"neh-data/\"\n",
    "year_list = [1960, 1970, 1980, 1990, 2000, 2010, 2020]\n",
    "titles, years, descriptions, organizations, disciplines = [], [], [], [], []"
   ]
  },
  {
   "cell_type": "markdown",
   "id": "c6d717f1-009d-4d6c-ab6a-1fe673855f1d",
   "metadata": {},
   "source": [
    "Extract the text for the following data fields from each decade's grant data:\n",
    "* Project title (`<ProjectTitle>...</ProjectTitle>`)\n",
    "* Year project awarded grant (`<YearAwarded>...</YearAwarded>`)\n",
    "* Project description (`<ProjectDesc>...</ProjectDesc>`)\n",
    "* Organization type (`<OrganizationType>...</OrganizationType>`)\n",
    "* Primary discipline (`<PrimaryDiscipline>...</PrimaryDiscipline>`)"
   ]
  },
  {
   "cell_type": "code",
   "execution_count": 3,
   "id": "2989b64f-ebb6-42f8-bffc-5fab5a9858ab",
   "metadata": {},
   "outputs": [],
   "source": [
    "for y in year_list:\n",
    "    filepath = datadir+\"NEH_Grants{year}s/NEH_Grants{year}s.xml\".format(year=y)\n",
    "    tree = ET.parse(filepath)\n",
    "    root = tree.getroot()\n",
    "    titles = titles + utils.getTextBeneathTag(root, \"ProjectTitle\")\n",
    "    years = years + utils.getTextBeneathTag(root, \"YearAwarded\")\n",
    "    descriptions = descriptions + utils.getTextBeneathTag(root, \"ProjectDesc\")\n",
    "    organizations = organizations + utils.getTextBeneathTag(root, \"OrganizationType\")\n",
    "    disciplines = disciplines + utils.getTextBeneathTag(root, \"PrimaryDiscipline\")"
   ]
  },
  {
   "cell_type": "markdown",
   "id": "121ebf18-101c-4c65-b9d3-081c630ad9cb",
   "metadata": {},
   "source": [
    "Transform the year data from strings to integers (a.k.a. represent the years as numbers rather than text):"
   ]
  },
  {
   "cell_type": "code",
   "execution_count": 4,
   "id": "3b3adeec-ad33-44e4-9dd6-3d1d73d4dd8f",
   "metadata": {},
   "outputs": [],
   "source": [
    "grant_years = [int(year) for year in years]"
   ]
  },
  {
   "cell_type": "markdown",
   "id": "b6f9be0f-ff29-4f3e-b4bc-22c2305d9fc3",
   "metadata": {},
   "source": [
    "Ensure all lists are the same length (there should be one list item per project in every list):"
   ]
  },
  {
   "cell_type": "code",
   "execution_count": 5,
   "id": "96aa657d-7f96-40ba-a273-7640d0299c54",
   "metadata": {},
   "outputs": [],
   "source": [
    "assert len(titles) == len(descriptions), \"There should be the same number of retrieved titles and descriptions.\"\n",
    "assert len(titles) == len(organizations), \"There should be the same number of retrieved titles and organizations.\"\n",
    "assert len(disciplines) == len(organizations), \"There should be the same number of retrieved disciplines and organizations.\"\n",
    "assert len(years) == len(disciplines), \"There should be the same number of retrieved years as disciplines.\""
   ]
  },
  {
   "cell_type": "code",
   "execution_count": 6,
   "id": "6a4f096b-00d4-4bf4-aed3-f3aeeafb5d75",
   "metadata": {},
   "outputs": [
    {
     "name": "stdout",
     "output_type": "stream",
     "text": [
      "Total projects: 68798\n",
      "First grant year: 1966\n",
      "Last grant year: 2023\n"
     ]
    }
   ],
   "source": [
    "print(\"Total projects:\", len(titles))\n",
    "print(\"First grant year:\", min(grant_years))\n",
    "print(\"Last grant year:\", max(grant_years))"
   ]
  },
  {
   "cell_type": "markdown",
   "id": "c6c7aad8-c69d-4604-8639-18d24b68f994",
   "metadata": {},
   "source": [
    "<a id=\"quant\"></a>\n",
    "## II. Quantities"
   ]
  },
  {
   "cell_type": "markdown",
   "id": "8e60a4df-5283-4eb4-998c-ace9990403a6",
   "metadata": {},
   "source": [
    "Create a table (specifically a *DataFrame*, a type of data structure in [pandas](pandas.pydata.org)) with the year, title, organization, and discipline data:"
   ]
  },
  {
   "cell_type": "code",
   "execution_count": 7,
   "id": "8c0bb056-82a8-4516-99aa-e5883c955a95",
   "metadata": {},
   "outputs": [
    {
     "data": {
      "text/html": [
       "<div>\n",
       "<style scoped>\n",
       "    .dataframe tbody tr th:only-of-type {\n",
       "        vertical-align: middle;\n",
       "    }\n",
       "\n",
       "    .dataframe tbody tr th {\n",
       "        vertical-align: top;\n",
       "    }\n",
       "\n",
       "    .dataframe thead th {\n",
       "        text-align: right;\n",
       "    }\n",
       "</style>\n",
       "<table border=\"1\" class=\"dataframe\">\n",
       "  <thead>\n",
       "    <tr style=\"text-align: right;\">\n",
       "      <th></th>\n",
       "      <th>YearAwarded</th>\n",
       "      <th>ProjectTitle</th>\n",
       "      <th>OrganizationType</th>\n",
       "      <th>PrimaryDiscipline</th>\n",
       "    </tr>\n",
       "  </thead>\n",
       "  <tbody>\n",
       "    <tr>\n",
       "      <th>431</th>\n",
       "      <td>1966</td>\n",
       "      <td>A Project for Creation of Source Materials in ...</td>\n",
       "      <td>Center For Advanced Study/Research Institute</td>\n",
       "      <td>U.S. History</td>\n",
       "    </tr>\n",
       "    <tr>\n",
       "      <th>585</th>\n",
       "      <td>1966</td>\n",
       "      <td>Conference to Analyze Present Situation of Lat...</td>\n",
       "      <td>Four-Year College</td>\n",
       "      <td>Classical Languages</td>\n",
       "    </tr>\n",
       "    <tr>\n",
       "      <th>873</th>\n",
       "      <td>1966</td>\n",
       "      <td>Ming Biographical History Project</td>\n",
       "      <td>Center For Advanced Study/Research Institute</td>\n",
       "      <td>East Asian History</td>\n",
       "    </tr>\n",
       "    <tr>\n",
       "      <th>47</th>\n",
       "      <td>1966</td>\n",
       "      <td>Summer institute in papyrology to be conducted...</td>\n",
       "      <td>Professional Association</td>\n",
       "      <td>Ancient Literature</td>\n",
       "    </tr>\n",
       "    <tr>\n",
       "      <th>414</th>\n",
       "      <td>1966</td>\n",
       "      <td>Support of Standard Editions of American Authors</td>\n",
       "      <td>Center For Advanced Study/Research Institute</td>\n",
       "      <td>Literature, General</td>\n",
       "    </tr>\n",
       "  </tbody>\n",
       "</table>\n",
       "</div>"
      ],
      "text/plain": [
       "     YearAwarded                                       ProjectTitle  \\\n",
       "431         1966  A Project for Creation of Source Materials in ...   \n",
       "585         1966  Conference to Analyze Present Situation of Lat...   \n",
       "873         1966                  Ming Biographical History Project   \n",
       "47          1966  Summer institute in papyrology to be conducted...   \n",
       "414         1966   Support of Standard Editions of American Authors   \n",
       "\n",
       "                                 OrganizationType    PrimaryDiscipline  \n",
       "431  Center For Advanced Study/Research Institute         U.S. History  \n",
       "585                             Four-Year College  Classical Languages  \n",
       "873  Center For Advanced Study/Research Institute   East Asian History  \n",
       "47                       Professional Association   Ancient Literature  \n",
       "414  Center For Advanced Study/Research Institute  Literature, General  "
      ]
     },
     "execution_count": 7,
     "metadata": {},
     "output_type": "execute_result"
    }
   ],
   "source": [
    "df = pd.DataFrame({\"YearAwarded\":grant_years, \"ProjectTitle\":titles, \n",
    "                   \"OrganizationType\":organizations, \"PrimaryDiscipline\":disciplines})\n",
    "# Sort ascending by year, then title, then organization type, then discipline\n",
    "df = df.sort_values(by=[\"YearAwarded\",\"ProjectTitle\",\"OrganizationType\",\"PrimaryDiscipline\"])\n",
    "# Ensure no data was missed\n",
    "assert df.shape[0] == len(disciplines), \"There should be the same number of DataFrame rows as retrieved list items\"\n",
    "# View the initial rows of the DataFrame\n",
    "df.head()"
   ]
  },
  {
   "cell_type": "markdown",
   "id": "4c195d60-c475-4df6-9463-90d189606b25",
   "metadata": {},
   "source": [
    "Calculate the sum of grants awarded to each organization type and save the data:"
   ]
  },
  {
   "cell_type": "code",
   "execution_count": 8,
   "id": "b7146af0-ccfb-47c0-b241-e24ee9b54051",
   "metadata": {},
   "outputs": [
    {
     "data": {
      "text/html": [
       "<div>\n",
       "<style scoped>\n",
       "    .dataframe tbody tr th:only-of-type {\n",
       "        vertical-align: middle;\n",
       "    }\n",
       "\n",
       "    .dataframe tbody tr th {\n",
       "        vertical-align: top;\n",
       "    }\n",
       "\n",
       "    .dataframe thead th {\n",
       "        text-align: right;\n",
       "    }\n",
       "</style>\n",
       "<table border=\"1\" class=\"dataframe\">\n",
       "  <thead>\n",
       "    <tr style=\"text-align: right;\">\n",
       "      <th></th>\n",
       "      <th>OrganizationType</th>\n",
       "      <th>Count</th>\n",
       "    </tr>\n",
       "  </thead>\n",
       "  <tbody>\n",
       "    <tr>\n",
       "      <th>0</th>\n",
       "      <td>Four-Year College</td>\n",
       "      <td>17041</td>\n",
       "    </tr>\n",
       "    <tr>\n",
       "      <th>1</th>\n",
       "      <td>University</td>\n",
       "      <td>13585</td>\n",
       "    </tr>\n",
       "    <tr>\n",
       "      <th>2</th>\n",
       "      <td>Unknown</td>\n",
       "      <td>10352</td>\n",
       "    </tr>\n",
       "    <tr>\n",
       "      <th>3</th>\n",
       "      <td>Center For Advanced Study/Research Institute</td>\n",
       "      <td>4581</td>\n",
       "    </tr>\n",
       "    <tr>\n",
       "      <th>4</th>\n",
       "      <td>Publishing</td>\n",
       "      <td>3902</td>\n",
       "    </tr>\n",
       "  </tbody>\n",
       "</table>\n",
       "</div>"
      ],
      "text/plain": [
       "                               OrganizationType  Count\n",
       "0                             Four-Year College  17041\n",
       "1                                    University  13585\n",
       "2                                       Unknown  10352\n",
       "3  Center For Advanced Study/Research Institute   4581\n",
       "4                                    Publishing   3902"
      ]
     },
     "execution_count": 8,
     "metadata": {},
     "output_type": "execute_result"
    }
   ],
   "source": [
    "df_orgs = pd.DataFrame(df.OrganizationType.value_counts()).reset_index()\n",
    "df_orgs = df_orgs.rename(columns={\"index\":\"OrganizationType\", \"OrganizationType\":\"Count\"})\n",
    "df_orgs.head()"
   ]
  },
  {
   "cell_type": "code",
   "execution_count": null,
   "id": "9e92f293-ee34-42a9-a41b-1a98bbb203bd",
   "metadata": {},
   "outputs": [],
   "source": [
    "# # Make a folder (a.k.a. directory) to save the organization type counts data into\n",
    "# analysis_dir = \"analysis-data/\"\n",
    "# Path(analysis_dir).mkdir(parents=True, exist_ok=True)\n",
    "# df_orgs.to_csv(analysis_dir+\"organizationtype-counts.csv\")"
   ]
  },
  {
   "cell_type": "markdown",
   "id": "d78b5e8f-6f37-43b7-b841-8e2c083ed47c",
   "metadata": {},
   "source": [
    "After manually categorizing organization types, add the categories to the DataFrame with all projects and save the data:"
   ]
  },
  {
   "cell_type": "code",
   "execution_count": 10,
   "id": "cba784e2-e727-44bf-9239-44172c9f1005",
   "metadata": {},
   "outputs": [
    {
     "data": {
      "text/html": [
       "<div>\n",
       "<style scoped>\n",
       "    .dataframe tbody tr th:only-of-type {\n",
       "        vertical-align: middle;\n",
       "    }\n",
       "\n",
       "    .dataframe tbody tr th {\n",
       "        vertical-align: top;\n",
       "    }\n",
       "\n",
       "    .dataframe thead th {\n",
       "        text-align: right;\n",
       "    }\n",
       "</style>\n",
       "<table border=\"1\" class=\"dataframe\">\n",
       "  <thead>\n",
       "    <tr style=\"text-align: right;\">\n",
       "      <th></th>\n",
       "      <th>Category</th>\n",
       "      <th>OrganizationType</th>\n",
       "      <th>Count</th>\n",
       "    </tr>\n",
       "  </thead>\n",
       "  <tbody>\n",
       "    <tr>\n",
       "      <th>0</th>\n",
       "      <td>Education</td>\n",
       "      <td>Four-Year College</td>\n",
       "      <td>17041.0</td>\n",
       "    </tr>\n",
       "    <tr>\n",
       "      <th>1</th>\n",
       "      <td>Education</td>\n",
       "      <td>University</td>\n",
       "      <td>13585.0</td>\n",
       "    </tr>\n",
       "    <tr>\n",
       "      <th>2</th>\n",
       "      <td>Unknown</td>\n",
       "      <td>Unknown</td>\n",
       "      <td>10352.0</td>\n",
       "    </tr>\n",
       "    <tr>\n",
       "      <th>3</th>\n",
       "      <td>Research</td>\n",
       "      <td>Center For Advanced Study/Research Institute</td>\n",
       "      <td>4581.0</td>\n",
       "    </tr>\n",
       "    <tr>\n",
       "      <th>4</th>\n",
       "      <td>Media</td>\n",
       "      <td>Publishing</td>\n",
       "      <td>3902.0</td>\n",
       "    </tr>\n",
       "  </tbody>\n",
       "</table>\n",
       "</div>"
      ],
      "text/plain": [
       "    Category                              OrganizationType    Count\n",
       "0  Education                             Four-Year College  17041.0\n",
       "1  Education                                    University  13585.0\n",
       "2    Unknown                                       Unknown  10352.0\n",
       "3   Research  Center For Advanced Study/Research Institute   4581.0\n",
       "4      Media                                    Publishing   3902.0"
      ]
     },
     "execution_count": 10,
     "metadata": {},
     "output_type": "execute_result"
    }
   ],
   "source": [
    "analysis_dir = \"analysis-data/\"\n",
    "org_cats = pd.read_csv(analysis_dir+\"organizationtype-counts.csv\")\n",
    "org_cats.head()"
   ]
  },
  {
   "cell_type": "code",
   "execution_count": 11,
   "id": "bf50b4b6-c05f-4cd4-96ed-341d2e252670",
   "metadata": {},
   "outputs": [
    {
     "data": {
      "text/html": [
       "<div>\n",
       "<style scoped>\n",
       "    .dataframe tbody tr th:only-of-type {\n",
       "        vertical-align: middle;\n",
       "    }\n",
       "\n",
       "    .dataframe tbody tr th {\n",
       "        vertical-align: top;\n",
       "    }\n",
       "\n",
       "    .dataframe thead th {\n",
       "        text-align: right;\n",
       "    }\n",
       "</style>\n",
       "<table border=\"1\" class=\"dataframe\">\n",
       "  <thead>\n",
       "    <tr style=\"text-align: right;\">\n",
       "      <th></th>\n",
       "      <th>YearAwarded</th>\n",
       "      <th>ProjectTitle</th>\n",
       "      <th>OrganizationType</th>\n",
       "      <th>PrimaryDiscipline</th>\n",
       "      <th>Category</th>\n",
       "    </tr>\n",
       "  </thead>\n",
       "  <tbody>\n",
       "    <tr>\n",
       "      <th>431</th>\n",
       "      <td>1966</td>\n",
       "      <td>A Project for Creation of Source Materials in ...</td>\n",
       "      <td>Center For Advanced Study/Research Institute</td>\n",
       "      <td>U.S. History</td>\n",
       "      <td>Research</td>\n",
       "    </tr>\n",
       "    <tr>\n",
       "      <th>585</th>\n",
       "      <td>1966</td>\n",
       "      <td>Conference to Analyze Present Situation of Lat...</td>\n",
       "      <td>Four-Year College</td>\n",
       "      <td>Classical Languages</td>\n",
       "      <td>Education</td>\n",
       "    </tr>\n",
       "    <tr>\n",
       "      <th>873</th>\n",
       "      <td>1966</td>\n",
       "      <td>Ming Biographical History Project</td>\n",
       "      <td>Center For Advanced Study/Research Institute</td>\n",
       "      <td>East Asian History</td>\n",
       "      <td>Research</td>\n",
       "    </tr>\n",
       "    <tr>\n",
       "      <th>47</th>\n",
       "      <td>1966</td>\n",
       "      <td>Summer institute in papyrology to be conducted...</td>\n",
       "      <td>Professional Association</td>\n",
       "      <td>Ancient Literature</td>\n",
       "      <td>Community/State/Nation</td>\n",
       "    </tr>\n",
       "    <tr>\n",
       "      <th>414</th>\n",
       "      <td>1966</td>\n",
       "      <td>Support of Standard Editions of American Authors</td>\n",
       "      <td>Center For Advanced Study/Research Institute</td>\n",
       "      <td>Literature, General</td>\n",
       "      <td>Research</td>\n",
       "    </tr>\n",
       "  </tbody>\n",
       "</table>\n",
       "</div>"
      ],
      "text/plain": [
       "     YearAwarded                                       ProjectTitle  \\\n",
       "431         1966  A Project for Creation of Source Materials in ...   \n",
       "585         1966  Conference to Analyze Present Situation of Lat...   \n",
       "873         1966                  Ming Biographical History Project   \n",
       "47          1966  Summer institute in papyrology to be conducted...   \n",
       "414         1966   Support of Standard Editions of American Authors   \n",
       "\n",
       "                                 OrganizationType    PrimaryDiscipline  \\\n",
       "431  Center For Advanced Study/Research Institute         U.S. History   \n",
       "585                             Four-Year College  Classical Languages   \n",
       "873  Center For Advanced Study/Research Institute   East Asian History   \n",
       "47                       Professional Association   Ancient Literature   \n",
       "414  Center For Advanced Study/Research Institute  Literature, General   \n",
       "\n",
       "                   Category  \n",
       "431                Research  \n",
       "585               Education  \n",
       "873                Research  \n",
       "47   Community/State/Nation  \n",
       "414                Research  "
      ]
     },
     "execution_count": 11,
     "metadata": {},
     "output_type": "execute_result"
    }
   ],
   "source": [
    "org_cats = org_cats[[\"Category\",\"OrganizationType\"]]\n",
    "joined = df.join(org_cats.set_index(\"OrganizationType\"), on=\"OrganizationType\", how=\"left\")\n",
    "joined.head()"
   ]
  },
  {
   "cell_type": "code",
   "execution_count": 12,
   "id": "ff789939-bd58-4001-ac54-5a8aefa980da",
   "metadata": {},
   "outputs": [],
   "source": [
    "# Make sure no data was lost\n",
    "assert joined.shape[0] == df.shape[0]"
   ]
  },
  {
   "cell_type": "code",
   "execution_count": 13,
   "id": "24ad80e6-3e26-49a4-8b9f-f465b3239e2e",
   "metadata": {},
   "outputs": [],
   "source": [
    "# Save the project data with the manually-defined categories\n",
    "joined.to_csv(analysis_dir+\"neh-funded-projects_1966-2023.csv\")"
   ]
  },
  {
   "cell_type": "markdown",
   "id": "644bf4f3-dc3e-4f1c-ad74-20ba6bab8dad",
   "metadata": {},
   "source": [
    "Calculate the sum of primary disciplines and save the data:"
   ]
  },
  {
   "cell_type": "code",
   "execution_count": 14,
   "id": "9fb4ae89-4b1c-4778-abd7-9e5d2e33096f",
   "metadata": {},
   "outputs": [
    {
     "data": {
      "text/html": [
       "<div>\n",
       "<style scoped>\n",
       "    .dataframe tbody tr th:only-of-type {\n",
       "        vertical-align: middle;\n",
       "    }\n",
       "\n",
       "    .dataframe tbody tr th {\n",
       "        vertical-align: top;\n",
       "    }\n",
       "\n",
       "    .dataframe thead th {\n",
       "        text-align: right;\n",
       "    }\n",
       "</style>\n",
       "<table border=\"1\" class=\"dataframe\">\n",
       "  <thead>\n",
       "    <tr style=\"text-align: right;\">\n",
       "      <th></th>\n",
       "      <th>PrimaryDiscipline</th>\n",
       "      <th>Count</th>\n",
       "    </tr>\n",
       "  </thead>\n",
       "  <tbody>\n",
       "    <tr>\n",
       "      <th>0</th>\n",
       "      <td>Interdisciplinary Studies, General</td>\n",
       "      <td>10964</td>\n",
       "    </tr>\n",
       "    <tr>\n",
       "      <th>1</th>\n",
       "      <td>U.S. History</td>\n",
       "      <td>8255</td>\n",
       "    </tr>\n",
       "    <tr>\n",
       "      <th>2</th>\n",
       "      <td>History, General</td>\n",
       "      <td>3606</td>\n",
       "    </tr>\n",
       "    <tr>\n",
       "      <th>3</th>\n",
       "      <td>Art History and Criticism</td>\n",
       "      <td>2705</td>\n",
       "    </tr>\n",
       "    <tr>\n",
       "      <th>4</th>\n",
       "      <td>American Literature</td>\n",
       "      <td>2217</td>\n",
       "    </tr>\n",
       "  </tbody>\n",
       "</table>\n",
       "</div>"
      ],
      "text/plain": [
       "                    PrimaryDiscipline  Count\n",
       "0  Interdisciplinary Studies, General  10964\n",
       "1                        U.S. History   8255\n",
       "2                    History, General   3606\n",
       "3           Art History and Criticism   2705\n",
       "4                 American Literature   2217"
      ]
     },
     "execution_count": 14,
     "metadata": {},
     "output_type": "execute_result"
    }
   ],
   "source": [
    "df_discs = pd.DataFrame(df.PrimaryDiscipline.value_counts()).reset_index()\n",
    "df_discs = df_discs.rename(columns={\"index\":\"PrimaryDiscipline\", \"PrimaryDiscipline\":\"Count\"})\n",
    "df_discs.head()"
   ]
  },
  {
   "cell_type": "code",
   "execution_count": 15,
   "id": "2901c2a6-2924-4002-82a4-6753daf7772c",
   "metadata": {},
   "outputs": [],
   "source": [
    "df_discs.to_csv(analysis_dir+\"primarydiscipline-counts.csv\")"
   ]
  },
  {
   "cell_type": "markdown",
   "id": "7e6b6bf2-71f9-48fa-8b8d-72b5ec2b0c29",
   "metadata": {},
   "source": [
    "<a id=\"text\"></a>\n",
    "## III. Text Analysis"
   ]
  },
  {
   "cell_type": "markdown",
   "id": "18327f44-658b-4d4c-8f24-ff5b5aca6771",
   "metadata": {},
   "source": [
    "Analyze the project descriptions using text mining techniques:"
   ]
  },
  {
   "cell_type": "code",
   "execution_count": 16,
   "id": "c5ca10d0-f35c-43fc-8ef9-e7c7ff50806f",
   "metadata": {},
   "outputs": [
    {
     "name": "stdout",
     "output_type": "stream",
     "text": [
      "68798 24610\n",
      "['No description', 'No description', 'No description', 'No description', 'No description']\n"
     ]
    }
   ],
   "source": [
    "print(len(descriptions), len(set(descriptions)))\n",
    "print(descriptions[0:5])"
   ]
  },
  {
   "cell_type": "code",
   "execution_count": 17,
   "id": "2014bf28-fa37-4cd6-8120-014d03e2d094",
   "metadata": {},
   "outputs": [
    {
     "name": "stdout",
     "output_type": "stream",
     "text": [
      "Projects with no description: 43805 (36%)\n"
     ]
    }
   ],
   "source": [
    "clean_descs = [d for d in descriptions if d != \"No description\"]\n",
    "print(\"Projects with no description:\", str(len(descriptions)-len(clean_descs)), \"(\" + str(int((len(clean_descs)/len(descriptions))*100)) + \"%)\")"
   ]
  },
  {
   "cell_type": "code",
   "execution_count": 18,
   "id": "5daf2fd3-968b-4c3c-b5a9-d16bc2e5b54e",
   "metadata": {},
   "outputs": [
    {
     "name": "stdout",
     "output_type": "stream",
     "text": [
      "Unique descriptions: 24609\n"
     ]
    }
   ],
   "source": [
    "print(\"Unique descriptions:\", len(set(clean_descs)))"
   ]
  },
  {
   "cell_type": "markdown",
   "id": "58c10648-7dd1-46e7-95e9-5f15218de9ea",
   "metadata": {},
   "source": [
    "Create a list of *tokens*, essentially words and punctuation marks, from the list of unique project descriptions, excluding those that state `No description`:"
   ]
  },
  {
   "cell_type": "code",
   "execution_count": 19,
   "id": "acdcac10-69e0-44c1-aff6-6a659ccea96d",
   "metadata": {},
   "outputs": [
    {
     "name": "stdout",
     "output_type": "stream",
     "text": [
      "2648098\n"
     ]
    }
   ],
   "source": [
    "clean_descs = list(set(clean_descs))\n",
    "tokens = []\n",
    "for d in clean_descs:\n",
    "    new_tokens = word_tokenize(d)\n",
    "    tokens = tokens + new_tokens\n",
    "print(len(tokens))"
   ]
  },
  {
   "cell_type": "markdown",
   "id": "e511addc-0d44-4cd6-a19f-5e0eeced7c0a",
   "metadata": {},
   "source": [
    "Create a list of all the words in the descriptions:"
   ]
  },
  {
   "cell_type": "code",
   "execution_count": 20,
   "id": "3bedc193-e7ce-431e-af9b-e89420fa4dbc",
   "metadata": {},
   "outputs": [
    {
     "name": "stdout",
     "output_type": "stream",
     "text": [
      "Total alphabetic tokens (words): 2272971\n"
     ]
    }
   ],
   "source": [
    "# Exclude punctuation marks\n",
    "words = [t for t in tokens if t.isalpha()]\n",
    "print(\"Total alphabetic tokens (words):\", len(words))"
   ]
  },
  {
   "cell_type": "markdown",
   "id": "40614750-f7c0-41be-abcf-400c603e5f72",
   "metadata": {},
   "source": [
    "Exclude *stop words* (frequently-occurring words that don't communicate much meaning on their own, such as \"the,\" \"or,\" and \"of\") from the list of words:"
   ]
  },
  {
   "cell_type": "code",
   "execution_count": 21,
   "id": "22aaad6f-8ddd-495c-ab5c-a87713c6e081",
   "metadata": {},
   "outputs": [],
   "source": [
    "# Load stop words for the English language:\n",
    "eng_stopwords = list(stopwords.words('english'))\n",
    "# Add custom stop words based on text corpus (project descriptions)\n",
    "eng_stopwords  = eng_stopwords + [\n",
    "    \"american\", \"program\", \"programs\", \"project\", \"projects\", \"funds\", \"important\", \"one\", \"year\"\n",
    "]\n",
    "# Exclude any words that appear in the list of English stop words (case insensitive, e.g. \"The\" and \"the\" will be excluded)\n",
    "# Also exclude \"ABSTRACT,\" as manual investigation revealed frequent occurrence of this in the descriptions\n",
    "no_stopwords = [w for w in words if not w.lower() in eng_stopwords and w != \"ABSTRACT\"]"
   ]
  },
  {
   "cell_type": "code",
   "execution_count": 22,
   "id": "3064122f-7048-443f-aea5-a87de60b4a3c",
   "metadata": {},
   "outputs": [
    {
     "name": "stdout",
     "output_type": "stream",
     "text": [
      "Remaining words: 1302195\n"
     ]
    }
   ],
   "source": [
    "print(\"Remaining words:\", len(no_stopwords))"
   ]
  },
  {
   "cell_type": "markdown",
   "id": "cf75f5dc-1d26-4b4d-8db4-d4511db23188",
   "metadata": {},
   "source": [
    "Visualize the frequency of the most common words in the descriptions:"
   ]
  },
  {
   "cell_type": "code",
   "execution_count": 23,
   "id": "5bea6599-223c-4242-a3d5-eddc077893f1",
   "metadata": {},
   "outputs": [
    {
     "data": {
      "image/png": "[encoded data removed]",
      "text/plain": [
       "<Figure size 900x300 with 1 Axes>"
      ]
     },
     "metadata": {},
     "output_type": "display_data"
    }
   ],
   "source": [
    "fdist_no_stopwords = FreqDist(no_stopwords)\n",
    "# Customise the width and height of the plot\n",
    "plt.figure(figsize = (9, 3))                \n",
    "# Customise the font size of the title, axes names, and axes labels\n",
    "plt.rc('font', size=8)\n",
    "n_words = 30\n",
    "plot_title = \"Frequency Distribution of {n} Most Common Words in NEH Grants' Project Descriptions from {year}s\".format(n=n_words, year=y)\n",
    "fdist_no_stopwords.plot(n_words, title=plot_title)\n",
    "plt.show()"
   ]
  },
  {
   "cell_type": "markdown",
   "id": "e79e08af-1233-44e7-95ee-1bac47766016",
   "metadata": {},
   "source": [
    "Visualize the most common stems (words' roots) in the descriptions:"
   ]
  },
  {
   "cell_type": "code",
   "execution_count": 24,
   "id": "edc1e48f-90e9-4248-889d-5cabe8e5cceb",
   "metadata": {},
   "outputs": [
    {
     "name": "stdout",
     "output_type": "stream",
     "text": [
      "['grant', 'assist', 'conduct', 'five', 'experiment', 'interdisciplinari', 'cours', 'involv', 'human', 'b']\n"
     ]
    }
   ],
   "source": [
    "stemmer = nltk.PorterStemmer()\n",
    "stems = [stemmer.stem(w) for w in no_stopwords]\n",
    "print(stems[:10])"
   ]
  },
  {
   "cell_type": "code",
   "execution_count": 25,
   "id": "fea9d901-9593-427b-be65-4a4bbdebd4c5",
   "metadata": {},
   "outputs": [
    {
     "data": {
      "image/png": "[encoded data removed]",
      "text/plain": [
       "<Figure size 900x300 with 1 Axes>"
      ]
     },
     "metadata": {},
     "output_type": "display_data"
    }
   ],
   "source": [
    "fdist_stems = FreqDist(stems)\n",
    "# Customise the width and height of the plot\n",
    "plt.figure(figsize = (9, 3))                \n",
    "# Customise the font size of the title, axes names, and axes labels\n",
    "plt.rc('font', size=10)\n",
    "n_words = 30\n",
    "plot_title = \"Frequency Distribution of {n} Most Common Word Stems in NEH Grants' Project Descriptions from {year}s\".format(n=n_words, year=y)\n",
    "fdist_stems.plot(n_words, title=plot_title)\n",
    "plt.show()"
   ]
  },
  {
   "cell_type": "markdown",
   "id": "feec28f2-ff91-40f4-b781-454286cd2f2e",
   "metadata": {},
   "source": [
    "Save description word data by year as JSON for visualization in an Observable Notebook:"
   ]
  },
  {
   "cell_type": "code",
   "execution_count": 40,
   "id": "8326314b-4f2a-41a2-b4bc-ff5992549b0d",
   "metadata": {},
   "outputs": [
    {
     "name": "stdout",
     "output_type": "stream",
     "text": [
      "[{'word': 'grant', 'count': 2517}, {'word': 'assist', 'count': 380}, {'word': 'conducting', 'count': 107}]\n"
     ]
    }
   ],
   "source": [
    "word_frequencies = utils.makeFreqDistJson(fdist_no_stopwords)\n",
    "print(word_frequencies[0:3])"
   ]
  },
  {
   "cell_type": "code",
   "execution_count": 41,
   "id": "6f45a4ca-c8b4-4b77-b6d0-bdde05be2c13",
   "metadata": {},
   "outputs": [],
   "source": [
    "with open(analysis_dir+\"desc_word_frequencies.json\", \"w\") as f:\n",
    "    json.dump(word_frequencies, f)"
   ]
  },
  {
   "cell_type": "code",
   "execution_count": 38,
   "id": "42faad8c-acc0-4c6b-bee3-20c441f7cd42",
   "metadata": {},
   "outputs": [
    {
     "name": "stdout",
     "output_type": "stream",
     "text": [
      "[{'word': 'grant', 'count': 3819}, {'word': 'assist', 'count': 1124}, {'word': 'conduct', 'count': 1365}]\n"
     ]
    }
   ],
   "source": [
    "stem_frequencies = utils.makeFreqDistJson(fdist_stems)\n",
    "print(stem_frequencies[0:3])"
   ]
  },
  {
   "cell_type": "code",
   "execution_count": 39,
   "id": "6a4ca9f3-8818-43c4-b9c9-f31d8a2f9257",
   "metadata": {},
   "outputs": [],
   "source": [
    "with open(analysis_dir+\"desc_stem_frequencies.json\", \"w\") as f:\n",
    "    json.dump(stem_frequencies, f)"
   ]
  }
 ],
 "metadata": {
  "kernelspec": {
   "display_name": "Python 3 (ipykernel)",
   "language": "python",
   "name": "python3"
  },
  "language_info": {
   "codemirror_mode": {
    "name": "ipython",
    "version": 3
   },
   "file_extension": ".py",
   "mimetype": "text/x-python",
   "name": "python",
   "nbconvert_exporter": "python",
   "pygments_lexer": "ipython3",
   "version": "3.9.7"
  }
 },
 "nbformat": 4,
 "nbformat_minor": 5
}
